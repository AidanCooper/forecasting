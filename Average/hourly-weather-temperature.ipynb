{
 "cells": [
  {
   "cell_type": "markdown",
   "metadata": {},
   "source": [
    "# Average Approach\n",
    "\n",
    "Benchmark model that simply forecasts the average historical value."
   ]
  },
  {
   "cell_type": "code",
   "execution_count": 1,
   "metadata": {},
   "outputs": [],
   "source": [
    "%matplotlib inline\n",
    "import matplotlib\n",
    "import matplotlib.pyplot as plt\n",
    "import numpy as np\n",
    "import pandas as pd"
   ]
  },
  {
   "cell_type": "code",
   "execution_count": 2,
   "metadata": {},
   "outputs": [],
   "source": [
    "matplotlib.rcParams['figure.figsize'] = (16, 9)\n",
    "pd.options.display.max_columns = 999"
   ]
  },
  {
   "cell_type": "markdown",
   "metadata": {},
   "source": [
    "## Load Dataset"
   ]
  },
  {
   "cell_type": "code",
   "execution_count": 3,
   "metadata": {},
   "outputs": [
    {
     "name": "stdout",
     "output_type": "stream",
     "text": [
      "(5000, 36)\n"
     ]
    },
    {
     "data": {
      "text/html": [
       "<div>\n",
       "<style scoped>\n",
       "    .dataframe tbody tr th:only-of-type {\n",
       "        vertical-align: middle;\n",
       "    }\n",
       "\n",
       "    .dataframe tbody tr th {\n",
       "        vertical-align: top;\n",
       "    }\n",
       "\n",
       "    .dataframe thead th {\n",
       "        text-align: right;\n",
       "    }\n",
       "</style>\n",
       "<table border=\"1\" class=\"dataframe\">\n",
       "  <thead>\n",
       "    <tr style=\"text-align: right;\">\n",
       "      <th></th>\n",
       "      <th>ts1</th>\n",
       "      <th>ts2</th>\n",
       "      <th>ts3</th>\n",
       "      <th>ts4</th>\n",
       "      <th>ts5</th>\n",
       "      <th>ts6</th>\n",
       "      <th>ts7</th>\n",
       "      <th>ts8</th>\n",
       "      <th>ts9</th>\n",
       "      <th>ts10</th>\n",
       "      <th>ts11</th>\n",
       "      <th>ts12</th>\n",
       "      <th>ts13</th>\n",
       "      <th>ts14</th>\n",
       "      <th>ts15</th>\n",
       "      <th>ts16</th>\n",
       "      <th>ts17</th>\n",
       "      <th>ts18</th>\n",
       "      <th>ts19</th>\n",
       "      <th>ts20</th>\n",
       "      <th>ts21</th>\n",
       "      <th>ts22</th>\n",
       "      <th>ts23</th>\n",
       "      <th>ts24</th>\n",
       "      <th>ts25</th>\n",
       "      <th>ts26</th>\n",
       "      <th>ts27</th>\n",
       "      <th>ts28</th>\n",
       "      <th>ts29</th>\n",
       "      <th>ts30</th>\n",
       "      <th>ts31</th>\n",
       "      <th>ts32</th>\n",
       "      <th>ts33</th>\n",
       "      <th>ts34</th>\n",
       "      <th>ts35</th>\n",
       "      <th>ts36</th>\n",
       "    </tr>\n",
       "    <tr>\n",
       "      <th>DateTime</th>\n",
       "      <th></th>\n",
       "      <th></th>\n",
       "      <th></th>\n",
       "      <th></th>\n",
       "      <th></th>\n",
       "      <th></th>\n",
       "      <th></th>\n",
       "      <th></th>\n",
       "      <th></th>\n",
       "      <th></th>\n",
       "      <th></th>\n",
       "      <th></th>\n",
       "      <th></th>\n",
       "      <th></th>\n",
       "      <th></th>\n",
       "      <th></th>\n",
       "      <th></th>\n",
       "      <th></th>\n",
       "      <th></th>\n",
       "      <th></th>\n",
       "      <th></th>\n",
       "      <th></th>\n",
       "      <th></th>\n",
       "      <th></th>\n",
       "      <th></th>\n",
       "      <th></th>\n",
       "      <th></th>\n",
       "      <th></th>\n",
       "      <th></th>\n",
       "      <th></th>\n",
       "      <th></th>\n",
       "      <th></th>\n",
       "      <th></th>\n",
       "      <th></th>\n",
       "      <th></th>\n",
       "      <th></th>\n",
       "    </tr>\n",
       "  </thead>\n",
       "  <tbody>\n",
       "    <tr>\n",
       "      <th>2017-03-25 01:00:00</th>\n",
       "      <td>282.75</td>\n",
       "      <td>284.44</td>\n",
       "      <td>287.37</td>\n",
       "      <td>283.15</td>\n",
       "      <td>291.65</td>\n",
       "      <td>290.82</td>\n",
       "      <td>296.72</td>\n",
       "      <td>297.87</td>\n",
       "      <td>291.35</td>\n",
       "      <td>283.54</td>\n",
       "      <td>298.31</td>\n",
       "      <td>297.59</td>\n",
       "      <td>296.60</td>\n",
       "      <td>289.66</td>\n",
       "      <td>277.90</td>\n",
       "      <td>295.29</td>\n",
       "      <td>283.94</td>\n",
       "      <td>294.67</td>\n",
       "      <td>293.20</td>\n",
       "      <td>294.48</td>\n",
       "      <td>291.20</td>\n",
       "      <td>293.32</td>\n",
       "      <td>290.43</td>\n",
       "      <td>296.15</td>\n",
       "      <td>293.03</td>\n",
       "      <td>280.57</td>\n",
       "      <td>284.09</td>\n",
       "      <td>283.98</td>\n",
       "      <td>272.76</td>\n",
       "      <td>279.11</td>\n",
       "      <td>280.356</td>\n",
       "      <td>285.15</td>\n",
       "      <td>284.706</td>\n",
       "      <td>291.056</td>\n",
       "      <td>291.056</td>\n",
       "      <td>285.15</td>\n",
       "    </tr>\n",
       "    <tr>\n",
       "      <th>2017-03-25 02:00:00</th>\n",
       "      <td>282.18</td>\n",
       "      <td>283.30</td>\n",
       "      <td>287.21</td>\n",
       "      <td>282.15</td>\n",
       "      <td>290.89</td>\n",
       "      <td>290.15</td>\n",
       "      <td>296.13</td>\n",
       "      <td>297.00</td>\n",
       "      <td>289.14</td>\n",
       "      <td>281.72</td>\n",
       "      <td>295.89</td>\n",
       "      <td>295.53</td>\n",
       "      <td>296.88</td>\n",
       "      <td>288.65</td>\n",
       "      <td>277.42</td>\n",
       "      <td>294.29</td>\n",
       "      <td>279.83</td>\n",
       "      <td>293.67</td>\n",
       "      <td>292.44</td>\n",
       "      <td>293.75</td>\n",
       "      <td>287.14</td>\n",
       "      <td>293.35</td>\n",
       "      <td>288.88</td>\n",
       "      <td>296.04</td>\n",
       "      <td>292.54</td>\n",
       "      <td>279.42</td>\n",
       "      <td>283.17</td>\n",
       "      <td>282.70</td>\n",
       "      <td>272.47</td>\n",
       "      <td>279.34</td>\n",
       "      <td>279.539</td>\n",
       "      <td>285.15</td>\n",
       "      <td>290.150</td>\n",
       "      <td>291.039</td>\n",
       "      <td>291.039</td>\n",
       "      <td>285.15</td>\n",
       "    </tr>\n",
       "    <tr>\n",
       "      <th>2017-03-25 03:00:00</th>\n",
       "      <td>281.50</td>\n",
       "      <td>282.58</td>\n",
       "      <td>286.75</td>\n",
       "      <td>281.77</td>\n",
       "      <td>289.29</td>\n",
       "      <td>289.43</td>\n",
       "      <td>294.72</td>\n",
       "      <td>296.32</td>\n",
       "      <td>288.15</td>\n",
       "      <td>279.15</td>\n",
       "      <td>290.44</td>\n",
       "      <td>294.95</td>\n",
       "      <td>295.97</td>\n",
       "      <td>288.17</td>\n",
       "      <td>277.02</td>\n",
       "      <td>293.58</td>\n",
       "      <td>279.57</td>\n",
       "      <td>293.41</td>\n",
       "      <td>291.91</td>\n",
       "      <td>292.84</td>\n",
       "      <td>284.62</td>\n",
       "      <td>292.32</td>\n",
       "      <td>287.32</td>\n",
       "      <td>295.82</td>\n",
       "      <td>291.74</td>\n",
       "      <td>277.86</td>\n",
       "      <td>281.89</td>\n",
       "      <td>282.67</td>\n",
       "      <td>272.46</td>\n",
       "      <td>279.80</td>\n",
       "      <td>279.539</td>\n",
       "      <td>285.15</td>\n",
       "      <td>283.489</td>\n",
       "      <td>291.039</td>\n",
       "      <td>291.039</td>\n",
       "      <td>285.15</td>\n",
       "    </tr>\n",
       "    <tr>\n",
       "      <th>2017-03-25 04:00:00</th>\n",
       "      <td>280.83</td>\n",
       "      <td>282.15</td>\n",
       "      <td>286.52</td>\n",
       "      <td>281.26</td>\n",
       "      <td>288.48</td>\n",
       "      <td>288.33</td>\n",
       "      <td>293.52</td>\n",
       "      <td>294.48</td>\n",
       "      <td>286.55</td>\n",
       "      <td>277.30</td>\n",
       "      <td>288.30</td>\n",
       "      <td>294.28</td>\n",
       "      <td>294.79</td>\n",
       "      <td>287.80</td>\n",
       "      <td>276.82</td>\n",
       "      <td>293.17</td>\n",
       "      <td>279.06</td>\n",
       "      <td>292.65</td>\n",
       "      <td>291.88</td>\n",
       "      <td>292.35</td>\n",
       "      <td>280.70</td>\n",
       "      <td>292.34</td>\n",
       "      <td>286.67</td>\n",
       "      <td>295.65</td>\n",
       "      <td>291.02</td>\n",
       "      <td>277.33</td>\n",
       "      <td>281.24</td>\n",
       "      <td>281.60</td>\n",
       "      <td>272.15</td>\n",
       "      <td>279.90</td>\n",
       "      <td>279.539</td>\n",
       "      <td>285.71</td>\n",
       "      <td>288.150</td>\n",
       "      <td>286.150</td>\n",
       "      <td>286.150</td>\n",
       "      <td>285.76</td>\n",
       "    </tr>\n",
       "    <tr>\n",
       "      <th>2017-03-25 05:00:00</th>\n",
       "      <td>280.17</td>\n",
       "      <td>282.15</td>\n",
       "      <td>286.07</td>\n",
       "      <td>280.93</td>\n",
       "      <td>287.91</td>\n",
       "      <td>287.60</td>\n",
       "      <td>293.34</td>\n",
       "      <td>292.02</td>\n",
       "      <td>285.56</td>\n",
       "      <td>276.30</td>\n",
       "      <td>287.57</td>\n",
       "      <td>293.42</td>\n",
       "      <td>293.87</td>\n",
       "      <td>287.30</td>\n",
       "      <td>276.68</td>\n",
       "      <td>292.46</td>\n",
       "      <td>278.77</td>\n",
       "      <td>291.65</td>\n",
       "      <td>290.56</td>\n",
       "      <td>291.59</td>\n",
       "      <td>280.56</td>\n",
       "      <td>291.35</td>\n",
       "      <td>286.88</td>\n",
       "      <td>295.87</td>\n",
       "      <td>290.16</td>\n",
       "      <td>276.88</td>\n",
       "      <td>280.38</td>\n",
       "      <td>281.01</td>\n",
       "      <td>272.15</td>\n",
       "      <td>279.74</td>\n",
       "      <td>285.676</td>\n",
       "      <td>285.71</td>\n",
       "      <td>288.150</td>\n",
       "      <td>285.150</td>\n",
       "      <td>285.150</td>\n",
       "      <td>285.76</td>\n",
       "    </tr>\n",
       "  </tbody>\n",
       "</table>\n",
       "</div>"
      ],
      "text/plain": [
       "                        ts1     ts2     ts3     ts4     ts5     ts6     ts7  \\\n",
       "DateTime                                                                      \n",
       "2017-03-25 01:00:00  282.75  284.44  287.37  283.15  291.65  290.82  296.72   \n",
       "2017-03-25 02:00:00  282.18  283.30  287.21  282.15  290.89  290.15  296.13   \n",
       "2017-03-25 03:00:00  281.50  282.58  286.75  281.77  289.29  289.43  294.72   \n",
       "2017-03-25 04:00:00  280.83  282.15  286.52  281.26  288.48  288.33  293.52   \n",
       "2017-03-25 05:00:00  280.17  282.15  286.07  280.93  287.91  287.60  293.34   \n",
       "\n",
       "                        ts8     ts9    ts10    ts11    ts12    ts13    ts14  \\\n",
       "DateTime                                                                      \n",
       "2017-03-25 01:00:00  297.87  291.35  283.54  298.31  297.59  296.60  289.66   \n",
       "2017-03-25 02:00:00  297.00  289.14  281.72  295.89  295.53  296.88  288.65   \n",
       "2017-03-25 03:00:00  296.32  288.15  279.15  290.44  294.95  295.97  288.17   \n",
       "2017-03-25 04:00:00  294.48  286.55  277.30  288.30  294.28  294.79  287.80   \n",
       "2017-03-25 05:00:00  292.02  285.56  276.30  287.57  293.42  293.87  287.30   \n",
       "\n",
       "                       ts15    ts16    ts17    ts18    ts19    ts20    ts21  \\\n",
       "DateTime                                                                      \n",
       "2017-03-25 01:00:00  277.90  295.29  283.94  294.67  293.20  294.48  291.20   \n",
       "2017-03-25 02:00:00  277.42  294.29  279.83  293.67  292.44  293.75  287.14   \n",
       "2017-03-25 03:00:00  277.02  293.58  279.57  293.41  291.91  292.84  284.62   \n",
       "2017-03-25 04:00:00  276.82  293.17  279.06  292.65  291.88  292.35  280.70   \n",
       "2017-03-25 05:00:00  276.68  292.46  278.77  291.65  290.56  291.59  280.56   \n",
       "\n",
       "                       ts22    ts23    ts24    ts25    ts26    ts27    ts28  \\\n",
       "DateTime                                                                      \n",
       "2017-03-25 01:00:00  293.32  290.43  296.15  293.03  280.57  284.09  283.98   \n",
       "2017-03-25 02:00:00  293.35  288.88  296.04  292.54  279.42  283.17  282.70   \n",
       "2017-03-25 03:00:00  292.32  287.32  295.82  291.74  277.86  281.89  282.67   \n",
       "2017-03-25 04:00:00  292.34  286.67  295.65  291.02  277.33  281.24  281.60   \n",
       "2017-03-25 05:00:00  291.35  286.88  295.87  290.16  276.88  280.38  281.01   \n",
       "\n",
       "                       ts29    ts30     ts31    ts32     ts33     ts34  \\\n",
       "DateTime                                                                 \n",
       "2017-03-25 01:00:00  272.76  279.11  280.356  285.15  284.706  291.056   \n",
       "2017-03-25 02:00:00  272.47  279.34  279.539  285.15  290.150  291.039   \n",
       "2017-03-25 03:00:00  272.46  279.80  279.539  285.15  283.489  291.039   \n",
       "2017-03-25 04:00:00  272.15  279.90  279.539  285.71  288.150  286.150   \n",
       "2017-03-25 05:00:00  272.15  279.74  285.676  285.71  288.150  285.150   \n",
       "\n",
       "                        ts35    ts36  \n",
       "DateTime                              \n",
       "2017-03-25 01:00:00  291.056  285.15  \n",
       "2017-03-25 02:00:00  291.039  285.15  \n",
       "2017-03-25 03:00:00  291.039  285.15  \n",
       "2017-03-25 04:00:00  286.150  285.76  \n",
       "2017-03-25 05:00:00  285.150  285.76  "
      ]
     },
     "execution_count": 3,
     "metadata": {},
     "output_type": "execute_result"
    }
   ],
   "source": [
    "df = pd.read_csv('../datasets/hourly-weather-temperature.csv', parse_dates=[0], index_col='DateTime')\n",
    "print(df.shape)\n",
    "df.head()"
   ]
  },
  {
   "cell_type": "markdown",
   "metadata": {},
   "source": [
    "## Define Parameters\n",
    "\n",
    "Make predictions for 24-hour period using a training period of two weeks."
   ]
  },
  {
   "cell_type": "code",
   "execution_count": 4,
   "metadata": {},
   "outputs": [],
   "source": [
    "dataset_name = 'Hourly Weather Temperature'\n",
    "dataset_abbr = 'HWT'\n",
    "model_name = 'Average'\n",
    "context_length = 24*7*2 # Two weeks\n",
    "prediction_length = 24"
   ]
  },
  {
   "cell_type": "markdown",
   "metadata": {},
   "source": [
    "## Define Error Metric\n",
    "\n",
    "The seasonal variant of the mean absolute scaled error (MASE) will be used to evaluate the forecasts."
   ]
  },
  {
   "cell_type": "code",
   "execution_count": 5,
   "metadata": {},
   "outputs": [],
   "source": [
    "def calc_sMASE(training_series, testing_series, prediction_series, seasonality=prediction_length):\n",
    "    a = training_series.iloc[seasonality:].values\n",
    "    b = training_series.iloc[:-seasonality].values\n",
    "    d = np.sum(np.abs(a-b)) / len(a)\n",
    "    errors = np.abs(testing_series - prediction_series)\n",
    "    return np.mean(errors) / d"
   ]
  },
  {
   "cell_type": "markdown",
   "metadata": {},
   "source": [
    "## Evaluate Average Approach Models"
   ]
  },
  {
   "cell_type": "code",
   "execution_count": 6,
   "metadata": {},
   "outputs": [],
   "source": [
    "results = df.copy()\n",
    "for i, col in enumerate(df.columns):\n",
    "    results['pred%s' % str(i+1)] = results[col].iloc[-(context_length + prediction_length):-prediction_length].mean()\n",
    "results.dropna(inplace=True)"
   ]
  },
  {
   "cell_type": "code",
   "execution_count": 7,
   "metadata": {},
   "outputs": [],
   "source": [
    "sMASEs = []\n",
    "for i, col in enumerate(df.columns):\n",
    "    sMASEs.append(calc_sMASE(results[col].iloc[-(context_length + prediction_length):-prediction_length],\n",
    "                             results[col].iloc[-prediction_length:],\n",
    "                             results['pred%s' % str(i+1)].iloc[-prediction_length:]))"
   ]
  },
  {
   "cell_type": "code",
   "execution_count": 8,
   "metadata": {},
   "outputs": [
    {
     "data": {
      "image/png": "[encoded data removed]",
      "text/plain": [
       "<Figure size 1152x648 with 1 Axes>"
      ]
     },
     "metadata": {},
     "output_type": "display_data"
    }
   ],
   "source": [
    "fig, ax = plt.subplots()\n",
    "ax.hist(sMASEs, bins=20)\n",
    "ax.set_title('Distributions of sMASEs for {} dataset'.format(dataset_name))\n",
    "ax.set_xlabel('sMASE')\n",
    "ax.set_ylabel('Count');"
   ]
  },
  {
   "cell_type": "code",
   "execution_count": 9,
   "metadata": {},
   "outputs": [
    {
     "name": "stdout",
     "output_type": "stream",
     "text": [
      "Overall sMASE: 2.1157\n"
     ]
    }
   ],
   "source": [
    "sMASE = np.mean(sMASEs)\n",
    "print(\"Overall sMASE: {:.4f}\".format(sMASE))"
   ]
  },
  {
   "cell_type": "markdown",
   "metadata": {},
   "source": [
    "Show some example forecasts."
   ]
  },
  {
   "cell_type": "code",
   "execution_count": 10,
   "metadata": {
    "scrolled": false
   },
   "outputs": [
    {
     "data": {
      "image/png": "[encoded data removed]",
      "text/plain": [
       "<Figure size 1152x648 with 10 Axes>"
      ]
     },
     "metadata": {},
     "output_type": "display_data"
    }
   ],
   "source": [
    "fig, ax = plt.subplots(5, 2, sharex=True)\n",
    "ax = ax.ravel()\n",
    "\n",
    "for col in range(1, 11):\n",
    "    ax[col-1].plot(results.index[-prediction_length:], results['ts%s' % col].iloc[-prediction_length:],\n",
    "                   label='Actual', c='k', linestyle='--', linewidth=1)\n",
    "    ax[col-1].plot(results.index[-prediction_length:], results['pred%s' % col].iloc[-prediction_length:],\n",
    "                   label='Predicted', c='b')\n",
    "fig.suptitle('{} Predictions'.format(dataset_name))\n",
    "ax[0].legend();"
   ]
  },
  {
   "cell_type": "markdown",
   "metadata": {},
   "source": [
    "Store the predictions and accuracy score for the Average Approach models."
   ]
  },
  {
   "cell_type": "code",
   "execution_count": 11,
   "metadata": {},
   "outputs": [],
   "source": [
    "import pickle\n",
    "    \n",
    "with open('{}-sMASE.pkl'.format(dataset_abbr), 'wb') as f:\n",
    "    pickle.dump(sMASE, f)\n",
    "    \n",
    "with open('../_results/{}/{}-results.pkl'.format(model_name, dataset_abbr), 'wb') as f:\n",
    "    pickle.dump(results.iloc[-prediction_length:], f)"
   ]
  },
  {
   "cell_type": "code",
   "execution_count": null,
   "metadata": {},
   "outputs": [],
   "source": []
  }
 ],
 "metadata": {
  "kernelspec": {
   "display_name": "Python 3",
   "language": "python",
   "name": "python3"
  },
  "language_info": {
   "codemirror_mode": {
    "name": "ipython",
    "version": 3
   },
   "file_extension": ".py",
   "mimetype": "text/x-python",
   "name": "python",
   "nbconvert_exporter": "python",
   "pygments_lexer": "ipython3",
   "version": "3.5.5"
  }
 },
 "nbformat": 4,
 "nbformat_minor": 2
}
