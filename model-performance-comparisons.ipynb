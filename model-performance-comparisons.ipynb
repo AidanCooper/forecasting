{
 "cells": [
  {
   "cell_type": "markdown",
   "metadata": {},
   "source": [
    "# Model Performance Comparisons"
   ]
  },
  {
   "cell_type": "markdown",
   "metadata": {},
   "source": [
    "DataFrame that collates the scores of the different models for the different datasets for easy comparison. Mean Absolute Scaled Error (MASE) and where applicable, seasonal Mean Absolute Scaled Error (sMASE), averaged across all time series in each dataset, are used as overall performance metrics for each model."
   ]
  },
  {
   "cell_type": "code",
   "execution_count": 1,
   "metadata": {},
   "outputs": [],
   "source": [
    "import pandas as pd\n",
    "import pickle"
   ]
  },
  {
   "cell_type": "markdown",
   "metadata": {},
   "source": [
    "## Seasonal Datasets"
   ]
  },
  {
   "cell_type": "code",
   "execution_count": 2,
   "metadata": {},
   "outputs": [],
   "source": [
    "# California Solar Power (CSP)\n",
    "# Household Electricity Consumption (HEC)\n",
    "\n",
    "models = ['Average', 'Naive', 'LinearRegression', 'Prophet', 'DeepAR',\n",
    "          'ARIMA', 'ARIMAX', 'SARIMA', 'SARIMAX']\n",
    "datasets = ['CSP', 'HEC', 'HWT', 'HWS', 'HWD']\n",
    "df_sMASE = pd.DataFrame(index=models, columns=datasets)"
   ]
  },
  {
   "cell_type": "code",
   "execution_count": 3,
   "metadata": {},
   "outputs": [],
   "source": [
    "for m in models:\n",
    "    for d in datasets:\n",
    "        with open('%s/%s-sMASE.pkl' % (m.lower(), d.lower()), 'rb') as f:\n",
    "            df_sMASE.loc[m, d] = pickle.load(f)\n",
    "            \n",
    "df_sMASE['mean_score'] = df_sMASE.mean(axis=1)"
   ]
  },
  {
   "cell_type": "code",
   "execution_count": 4,
   "metadata": {},
   "outputs": [
    {
     "data": {
      "text/html": [
       "<div>\n",
       "<style scoped>\n",
       "    .dataframe tbody tr th:only-of-type {\n",
       "        vertical-align: middle;\n",
       "    }\n",
       "\n",
       "    .dataframe tbody tr th {\n",
       "        vertical-align: top;\n",
       "    }\n",
       "\n",
       "    .dataframe thead th {\n",
       "        text-align: right;\n",
       "    }\n",
       "</style>\n",
       "<table border=\"1\" class=\"dataframe\">\n",
       "  <thead>\n",
       "    <tr style=\"text-align: right;\">\n",
       "      <th></th>\n",
       "      <th>CSP</th>\n",
       "      <th>HEC</th>\n",
       "      <th>HWT</th>\n",
       "      <th>HWS</th>\n",
       "      <th>HWD</th>\n",
       "      <th>mean_score</th>\n",
       "    </tr>\n",
       "  </thead>\n",
       "  <tbody>\n",
       "    <tr>\n",
       "      <th>Naive</th>\n",
       "      <td>1</td>\n",
       "      <td>1</td>\n",
       "      <td>1</td>\n",
       "      <td>1</td>\n",
       "      <td>1</td>\n",
       "      <td>1.000000</td>\n",
       "    </tr>\n",
       "    <tr>\n",
       "      <th>SARIMA</th>\n",
       "      <td>0.734733</td>\n",
       "      <td>1.60976</td>\n",
       "      <td>1.25492</td>\n",
       "      <td>0.806742</td>\n",
       "      <td>0.713394</td>\n",
       "      <td>1.023910</td>\n",
       "    </tr>\n",
       "    <tr>\n",
       "      <th>SARIMAX</th>\n",
       "      <td>0.75265</td>\n",
       "      <td>1.61433</td>\n",
       "      <td>1.3084</td>\n",
       "      <td>0.865172</td>\n",
       "      <td>0.731366</td>\n",
       "      <td>1.054384</td>\n",
       "    </tr>\n",
       "    <tr>\n",
       "      <th>Prophet</th>\n",
       "      <td>1.10443</td>\n",
       "      <td>1.63378</td>\n",
       "      <td>1.32722</td>\n",
       "      <td>0.849303</td>\n",
       "      <td>0.999691</td>\n",
       "      <td>1.182884</td>\n",
       "    </tr>\n",
       "    <tr>\n",
       "      <th>DeepAR</th>\n",
       "      <td>1.0884</td>\n",
       "      <td>1.69218</td>\n",
       "      <td>1.92888</td>\n",
       "      <td>0.795072</td>\n",
       "      <td>0.754109</td>\n",
       "      <td>1.251728</td>\n",
       "    </tr>\n",
       "    <tr>\n",
       "      <th>LinearRegression</th>\n",
       "      <td>1.46422</td>\n",
       "      <td>2.03795</td>\n",
       "      <td>1.15451</td>\n",
       "      <td>0.821911</td>\n",
       "      <td>0.830871</td>\n",
       "      <td>1.261894</td>\n",
       "    </tr>\n",
       "    <tr>\n",
       "      <th>ARIMA</th>\n",
       "      <td>3.14786</td>\n",
       "      <td>2.04262</td>\n",
       "      <td>1.18837</td>\n",
       "      <td>0.794829</td>\n",
       "      <td>0.838663</td>\n",
       "      <td>1.602468</td>\n",
       "    </tr>\n",
       "    <tr>\n",
       "      <th>ARIMAX</th>\n",
       "      <td>3.62378</td>\n",
       "      <td>2.01298</td>\n",
       "      <td>1.4158</td>\n",
       "      <td>0.889121</td>\n",
       "      <td>0.875279</td>\n",
       "      <td>1.763393</td>\n",
       "    </tr>\n",
       "    <tr>\n",
       "      <th>Average</th>\n",
       "      <td>5.20921</td>\n",
       "      <td>2.39973</td>\n",
       "      <td>2.11568</td>\n",
       "      <td>0.813868</td>\n",
       "      <td>0.878027</td>\n",
       "      <td>2.283304</td>\n",
       "    </tr>\n",
       "  </tbody>\n",
       "</table>\n",
       "</div>"
      ],
      "text/plain": [
       "                       CSP      HEC      HWT       HWS       HWD  mean_score\n",
       "Naive                    1        1        1         1         1    1.000000\n",
       "SARIMA            0.734733  1.60976  1.25492  0.806742  0.713394    1.023910\n",
       "SARIMAX            0.75265  1.61433   1.3084  0.865172  0.731366    1.054384\n",
       "Prophet            1.10443  1.63378  1.32722  0.849303  0.999691    1.182884\n",
       "DeepAR              1.0884  1.69218  1.92888  0.795072  0.754109    1.251728\n",
       "LinearRegression   1.46422  2.03795  1.15451  0.821911  0.830871    1.261894\n",
       "ARIMA              3.14786  2.04262  1.18837  0.794829  0.838663    1.602468\n",
       "ARIMAX             3.62378  2.01298   1.4158  0.889121  0.875279    1.763393\n",
       "Average            5.20921  2.39973  2.11568  0.813868  0.878027    2.283304"
      ]
     },
     "execution_count": 4,
     "metadata": {},
     "output_type": "execute_result"
    }
   ],
   "source": [
    "df_sMASE.sort_values(by='mean_score')"
   ]
  },
  {
   "cell_type": "code",
   "execution_count": null,
   "metadata": {},
   "outputs": [],
   "source": []
  }
 ],
 "metadata": {
  "kernelspec": {
   "display_name": "Python 3",
   "language": "python",
   "name": "python3"
  },
  "language_info": {
   "codemirror_mode": {
    "name": "ipython",
    "version": 3
   },
   "file_extension": ".py",
   "mimetype": "text/x-python",
   "name": "python",
   "nbconvert_exporter": "python",
   "pygments_lexer": "ipython3",
   "version": "3.5.5"
  }
 },
 "nbformat": 4,
 "nbformat_minor": 2
}
