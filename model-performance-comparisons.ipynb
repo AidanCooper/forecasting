{
 "cells": [
  {
   "cell_type": "markdown",
   "metadata": {},
   "source": [
    "# Model Performance Comparisons"
   ]
  },
  {
   "cell_type": "markdown",
   "metadata": {},
   "source": [
    "DataFrame that collates the scores of the different models for the different datasets for easy comparison. Mean Absolute Scaled Error (MASE) and where applicable, seasonal Mean Absolute Scaled Error (sMASE), averaged across all time series in each dataset, are used as overall performance metrics for each model."
   ]
  },
  {
   "cell_type": "code",
   "execution_count": null,
   "metadata": {},
   "outputs": [],
   "source": [
    "import pandas as pd\n",
    "import pickle"
   ]
  },
  {
   "cell_type": "markdown",
   "metadata": {},
   "source": [
    "## Seasonal Datasets"
   ]
  },
  {
   "cell_type": "code",
   "execution_count": 3,
   "metadata": {},
   "outputs": [],
   "source": [
    "# California Solar Power (CSP)\n",
    "# Household Electricity Consumption (HEC)\n",
    "\n",
    "models = ['Average', 'Naive', 'LinearRegression', 'Prophet', 'DeepAR',\n",
    "          'ARIMA', 'ARIMAX', 'SARIMA', 'SARIMAX']\n",
    "datasets = ['CSP', 'HEC']\n",
    "df_sMASE = pd.DataFrame(index=models, columns=datasets)"
   ]
  },
  {
   "cell_type": "code",
   "execution_count": 4,
   "metadata": {},
   "outputs": [],
   "source": [
    "for m in models:\n",
    "    for d in datasets:\n",
    "        with open('%s/%s-sMASE.pkl' % (m.lower(), d.lower()), 'rb') as f:\n",
    "            df_sMASE.loc[m, d] = pickle.load(f)"
   ]
  },
  {
   "cell_type": "code",
   "execution_count": 5,
   "metadata": {},
   "outputs": [
    {
     "data": {
      "text/html": [
       "<div>\n",
       "<style scoped>\n",
       "    .dataframe tbody tr th:only-of-type {\n",
       "        vertical-align: middle;\n",
       "    }\n",
       "\n",
       "    .dataframe tbody tr th {\n",
       "        vertical-align: top;\n",
       "    }\n",
       "\n",
       "    .dataframe thead th {\n",
       "        text-align: right;\n",
       "    }\n",
       "</style>\n",
       "<table border=\"1\" class=\"dataframe\">\n",
       "  <thead>\n",
       "    <tr style=\"text-align: right;\">\n",
       "      <th></th>\n",
       "      <th>CSP</th>\n",
       "      <th>HEC</th>\n",
       "    </tr>\n",
       "  </thead>\n",
       "  <tbody>\n",
       "    <tr>\n",
       "      <th>SARIMA</th>\n",
       "      <td>0.734733</td>\n",
       "      <td>1.60976</td>\n",
       "    </tr>\n",
       "    <tr>\n",
       "      <th>SARIMAX</th>\n",
       "      <td>0.75265</td>\n",
       "      <td>1.61433</td>\n",
       "    </tr>\n",
       "    <tr>\n",
       "      <th>Naive</th>\n",
       "      <td>1</td>\n",
       "      <td>1</td>\n",
       "    </tr>\n",
       "    <tr>\n",
       "      <th>DeepAR</th>\n",
       "      <td>1.0884</td>\n",
       "      <td>1.69218</td>\n",
       "    </tr>\n",
       "    <tr>\n",
       "      <th>Prophet</th>\n",
       "      <td>1.10443</td>\n",
       "      <td>1.63378</td>\n",
       "    </tr>\n",
       "    <tr>\n",
       "      <th>LinearRegression</th>\n",
       "      <td>1.46422</td>\n",
       "      <td>2.03795</td>\n",
       "    </tr>\n",
       "    <tr>\n",
       "      <th>ARIMA</th>\n",
       "      <td>3.14786</td>\n",
       "      <td>2.04262</td>\n",
       "    </tr>\n",
       "    <tr>\n",
       "      <th>ARIMAX</th>\n",
       "      <td>3.62378</td>\n",
       "      <td>2.01298</td>\n",
       "    </tr>\n",
       "    <tr>\n",
       "      <th>Average</th>\n",
       "      <td>5.20921</td>\n",
       "      <td>2.39973</td>\n",
       "    </tr>\n",
       "  </tbody>\n",
       "</table>\n",
       "</div>"
      ],
      "text/plain": [
       "                       CSP      HEC\n",
       "SARIMA            0.734733  1.60976\n",
       "SARIMAX            0.75265  1.61433\n",
       "Naive                    1        1\n",
       "DeepAR              1.0884  1.69218\n",
       "Prophet            1.10443  1.63378\n",
       "LinearRegression   1.46422  2.03795\n",
       "ARIMA              3.14786  2.04262\n",
       "ARIMAX             3.62378  2.01298\n",
       "Average            5.20921  2.39973"
      ]
     },
     "execution_count": 5,
     "metadata": {},
     "output_type": "execute_result"
    }
   ],
   "source": [
    "df_sMASE.sort_values(by='CSP')"
   ]
  },
  {
   "cell_type": "code",
   "execution_count": null,
   "metadata": {},
   "outputs": [],
   "source": []
  }
 ],
 "metadata": {
  "kernelspec": {
   "display_name": "Python 3",
   "language": "python",
   "name": "python3"
  },
  "language_info": {
   "codemirror_mode": {
    "name": "ipython",
    "version": 3
   },
   "file_extension": ".py",
   "mimetype": "text/x-python",
   "name": "python",
   "nbconvert_exporter": "python",
   "pygments_lexer": "ipython3",
   "version": "3.5.5"
  }
 },
 "nbformat": 4,
 "nbformat_minor": 2
}
