{
 "cells": [
  {
   "cell_type": "markdown",
   "metadata": {},
   "source": [
    "# Model Performance Comparisons"
   ]
  },
  {
   "cell_type": "markdown",
   "metadata": {},
   "source": [
    "DataFrame that collates the scores of the different models for the different datasets for easy comparison. Mean Absolute Scaled Error (MASE) and where applicable, seasonal Mean Absolute Scaled Error (sMASE), averaged across all time series in each dataset, are used as overall performance metrics for each model."
   ]
  },
  {
   "cell_type": "code",
   "execution_count": 1,
   "metadata": {
    "collapsed": true
   },
   "outputs": [],
   "source": [
    "import pandas as pd\n",
    "import pickle"
   ]
  },
  {
   "cell_type": "code",
   "execution_count": 2,
   "metadata": {
    "collapsed": false
   },
   "outputs": [],
   "source": [
    "# California Solar Power (CSP)\n",
    "# Household Electricity Consumption (HEC)\n",
    "\n",
    "models = ['Average', 'Naive', 'LinearRegression', 'Prophet', 'DeepAR']\n",
    "datasets = ['CSP', 'HEC']\n",
    "df_MASE = pd.DataFrame(index=models, columns=datasets)\n",
    "df_sMASE = pd.DataFrame(index=models, columns=datasets)"
   ]
  },
  {
   "cell_type": "code",
   "execution_count": 3,
   "metadata": {
    "collapsed": false
   },
   "outputs": [],
   "source": [
    "for m in models:\n",
    "    for d in datasets:\n",
    "        with open('%s/%s-MASE.pkl' % (m.lower(), d.lower()), 'rb') as f:\n",
    "            df_MASE.loc[m, d] = pickle.load(f)\n",
    "            \n",
    "for m in models:\n",
    "    for d in datasets:\n",
    "        with open('%s/%s-sMASE.pkl' % (m.lower(), d.lower()), 'rb') as f:\n",
    "            df_sMASE.loc[m, d] = pickle.load(f)"
   ]
  },
  {
   "cell_type": "code",
   "execution_count": 4,
   "metadata": {
    "collapsed": false
   },
   "outputs": [
    {
     "data": {
      "text/html": [
       "<div>\n",
       "<style scoped>\n",
       "    .dataframe tbody tr th:only-of-type {\n",
       "        vertical-align: middle;\n",
       "    }\n",
       "\n",
       "    .dataframe tbody tr th {\n",
       "        vertical-align: top;\n",
       "    }\n",
       "\n",
       "    .dataframe thead th {\n",
       "        text-align: right;\n",
       "    }\n",
       "</style>\n",
       "<table border=\"1\" class=\"dataframe\">\n",
       "  <thead>\n",
       "    <tr style=\"text-align: right;\">\n",
       "      <th></th>\n",
       "      <th>CSP</th>\n",
       "      <th>HEC</th>\n",
       "    </tr>\n",
       "  </thead>\n",
       "  <tbody>\n",
       "    <tr>\n",
       "      <th>Average</th>\n",
       "      <td>3.5962</td>\n",
       "      <td>3.27719</td>\n",
       "    </tr>\n",
       "    <tr>\n",
       "      <th>Naive</th>\n",
       "      <td>0.963811</td>\n",
       "      <td>1.58938</td>\n",
       "    </tr>\n",
       "    <tr>\n",
       "      <th>LinearRegression</th>\n",
       "      <td>1.20654</td>\n",
       "      <td>1.94211</td>\n",
       "    </tr>\n",
       "    <tr>\n",
       "      <th>Prophet</th>\n",
       "      <td>0.958169</td>\n",
       "      <td>1.98221</td>\n",
       "    </tr>\n",
       "    <tr>\n",
       "      <th>DeepAR</th>\n",
       "      <td>0.888661</td>\n",
       "      <td>1.93527</td>\n",
       "    </tr>\n",
       "  </tbody>\n",
       "</table>\n",
       "</div>"
      ],
      "text/plain": [
       "                       CSP      HEC\n",
       "Average             3.5962  3.27719\n",
       "Naive             0.963811  1.58938\n",
       "LinearRegression   1.20654  1.94211\n",
       "Prophet           0.958169  1.98221\n",
       "DeepAR            0.888661  1.93527"
      ]
     },
     "execution_count": 4,
     "metadata": {},
     "output_type": "execute_result"
    }
   ],
   "source": [
    "df_MASE"
   ]
  },
  {
   "cell_type": "code",
   "execution_count": 5,
   "metadata": {
    "collapsed": false
   },
   "outputs": [
    {
     "data": {
      "text/html": [
       "<div>\n",
       "<style scoped>\n",
       "    .dataframe tbody tr th:only-of-type {\n",
       "        vertical-align: middle;\n",
       "    }\n",
       "\n",
       "    .dataframe tbody tr th {\n",
       "        vertical-align: top;\n",
       "    }\n",
       "\n",
       "    .dataframe thead th {\n",
       "        text-align: right;\n",
       "    }\n",
       "</style>\n",
       "<table border=\"1\" class=\"dataframe\">\n",
       "  <thead>\n",
       "    <tr style=\"text-align: right;\">\n",
       "      <th></th>\n",
       "      <th>CSP</th>\n",
       "      <th>HEC</th>\n",
       "    </tr>\n",
       "  </thead>\n",
       "  <tbody>\n",
       "    <tr>\n",
       "      <th>Average</th>\n",
       "      <td>6.67786</td>\n",
       "      <td>4.41457</td>\n",
       "    </tr>\n",
       "    <tr>\n",
       "      <th>Naive</th>\n",
       "      <td>1.60171</td>\n",
       "      <td>1.86245</td>\n",
       "    </tr>\n",
       "    <tr>\n",
       "      <th>LinearRegression</th>\n",
       "      <td>2.03625</td>\n",
       "      <td>2.26433</td>\n",
       "    </tr>\n",
       "    <tr>\n",
       "      <th>Prophet</th>\n",
       "      <td>1.62997</td>\n",
       "      <td>2.42382</td>\n",
       "    </tr>\n",
       "    <tr>\n",
       "      <th>DeepAR</th>\n",
       "      <td>1.53339</td>\n",
       "      <td>2.3044</td>\n",
       "    </tr>\n",
       "  </tbody>\n",
       "</table>\n",
       "</div>"
      ],
      "text/plain": [
       "                      CSP      HEC\n",
       "Average           6.67786  4.41457\n",
       "Naive             1.60171  1.86245\n",
       "LinearRegression  2.03625  2.26433\n",
       "Prophet           1.62997  2.42382\n",
       "DeepAR            1.53339   2.3044"
      ]
     },
     "execution_count": 5,
     "metadata": {},
     "output_type": "execute_result"
    }
   ],
   "source": [
    "df_sMASE"
   ]
  }
 ],
 "metadata": {
  "kernelspec": {
   "display_name": "Python 3",
   "language": "python",
   "name": "python3"
  },
  "language_info": {
   "codemirror_mode": {
    "name": "ipython",
    "version": 3
   },
   "file_extension": ".py",
   "mimetype": "text/x-python",
   "name": "python",
   "nbconvert_exporter": "python",
   "pygments_lexer": "ipython3",
   "version": "3.6.0"
  }
 },
 "nbformat": 4,
 "nbformat_minor": 2
}
